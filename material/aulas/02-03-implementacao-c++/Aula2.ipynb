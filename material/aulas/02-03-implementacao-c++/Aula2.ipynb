{
  "nbformat": 4,
  "nbformat_minor": 0,
  "metadata": {
    "colab": {
      "provenance": [],
      "authorship_tag": "ABX9TyOMt3FtbUSV2+/hfgW56n1J"
    },
    "kernelspec": {
      "name": "python3",
      "display_name": "Python 3"
    },
    "language_info": {
      "name": "python"
    }
  },
  "cells": [
    {
      "cell_type": "code",
      "execution_count": 17,
      "metadata": {
        "colab": {
          "base_uri": "https://localhost:8080/"
        },
        "id": "lknuy_3MNOhL",
        "outputId": "af5a32a8-4786-4a28-a00a-d4567b6d9dd6"
      },
      "outputs": [
        {
          "output_type": "stream",
          "name": "stdout",
          "text": [
            "Cloning into 'supercomp'...\n",
            "remote: Enumerating objects: 194, done.\u001b[K\n",
            "remote: Counting objects: 100% (194/194), done.\u001b[K\n",
            "remote: Compressing objects: 100% (154/154), done.\u001b[K\n",
            "remote: Total 194 (delta 4), reused 144 (delta 3), pack-reused 0\u001b[K\n",
            "Receiving objects: 100% (194/194), 26.19 MiB | 14.06 MiB/s, done.\n",
            "Resolving deltas: 100% (4/4), done.\n",
            "Already on 'master'\n",
            "Your branch is up to date with 'origin/master'.\n"
          ]
        }
      ],
      "source": [
        "!rm -rf supercomp\n",
        "!rm -rf 02-03-implementacao-c++\n",
        "!git clone --depth 1 --branch master --no-checkout https://github.com/matheus-1618/supercomp.git\n",
        "!cd supercomp&&git sparse-checkout set material/aulas/02-03-implementacao-c++/\n",
        "!cd supercomp&&git checkout master\n",
        "!mv supercomp/material/aulas/02-03-implementacao-c++//* .\n",
        "!rm -rf supercomp"
      ]
    },
    {
      "cell_type": "code",
      "source": [
        "%%writefile hello.cpp\n",
        "\n",
        "#include <iostream>\n",
        "int main(){\n",
        "  //namespace: sabe qual a função de\n",
        "  //trabalho em diferentes arquivos\n",
        "  //teste\n",
        "  std::cout << \"Hello World!\\n\";\n",
        "  return 0;\n",
        "}"
      ],
      "metadata": {
        "colab": {
          "base_uri": "https://localhost:8080/"
        },
        "id": "X8sYIhgWTOKO",
        "outputId": "07092d99-2352-4b74-aa95-3738ccb37237"
      },
      "execution_count": 18,
      "outputs": [
        {
          "output_type": "stream",
          "name": "stdout",
          "text": [
            "Overwriting hello.cpp\n"
          ]
        }
      ]
    },
    {
      "cell_type": "code",
      "source": [
        "!g++ hello.cpp -o hello\n",
        "!./hello"
      ],
      "metadata": {
        "colab": {
          "base_uri": "https://localhost:8080/"
        },
        "id": "IfpBSN_7ULHQ",
        "outputId": "1bc6431b-8e69-4fd4-91f3-820a536363f5"
      },
      "execution_count": 19,
      "outputs": [
        {
          "output_type": "stream",
          "name": "stdout",
          "text": [
            "Hello World!\n"
          ]
        }
      ]
    },
    {
      "cell_type": "code",
      "source": [
        "%%writefile variaveis.cpp\n",
        "#include <iostream>\n",
        "#include <string>\n",
        "using namespace std; // tudo que não seja padrão ou exista outras versoes, adote standard\n",
        "\n",
        "int main(){\n",
        "  int x;\n",
        "  cout << \"Entre com um número: \";\n",
        "  cin >> x;\n",
        "\n",
        "  cout << \"Você digitou o numero: \" << x << endl;\n",
        "  return 0;\n",
        "\n",
        "}"
      ],
      "metadata": {
        "colab": {
          "base_uri": "https://localhost:8080/"
        },
        "id": "ZeZEYsJ_UOEP",
        "outputId": "3317ab0a-7b4a-45d5-d26a-6147f6e275ef"
      },
      "execution_count": 20,
      "outputs": [
        {
          "output_type": "stream",
          "name": "stdout",
          "text": [
            "Overwriting variaveis.cpp\n"
          ]
        }
      ]
    },
    {
      "cell_type": "code",
      "source": [
        "%%shell\n",
        "g++ variaveis.cpp -o variaveis\n",
        "./variaveis"
      ],
      "metadata": {
        "colab": {
          "base_uri": "https://localhost:8080/"
        },
        "id": "LzGGDSMbVyin",
        "outputId": "e5781b8f-ee86-4ff0-d3b9-5c56b30c6f04"
      },
      "execution_count": 21,
      "outputs": [
        {
          "output_type": "stream",
          "name": "stdout",
          "text": [
            "Entre com um número: 6\n",
            "Você digitou o numero: 6\n"
          ]
        },
        {
          "output_type": "execute_result",
          "data": {
            "text/plain": []
          },
          "metadata": {},
          "execution_count": 21
        }
      ]
    },
    {
      "cell_type": "code",
      "source": [
        "%%writefile variaveis.cpp\n",
        "#include <iostream>\n",
        "#include <string>\n",
        "using namespace std; // tudo que não seja padrão ou exista outras versoes, adote standard\n",
        "\n",
        "int main(){\n",
        "  int x;\n",
        "  cout << \"Entre com um número: \";\n",
        "  cin >> x;\n",
        "  cout << \"Você digitou o numero: \" << x << endl;\n",
        "\n",
        "  int y;\n",
        "  string s;\n",
        "  y = 2*x;\n",
        "  x = y + 5;\n",
        "  cout << \"X = \" << x <<endl;\n",
        "  cout << \"Y = \" << y <<endl;\n",
        "  cout << \"Digite uma string: \";\n",
        "  cin >> s;\n",
        "  cout << \"Voce digitou \" << s <<endl;\n",
        "  return 0;\n",
        "\n",
        "}"
      ],
      "metadata": {
        "colab": {
          "base_uri": "https://localhost:8080/"
        },
        "id": "aOgm-n1jV2ji",
        "outputId": "d7b6af6a-f509-4b55-b78b-e60588aeafe2"
      },
      "execution_count": 22,
      "outputs": [
        {
          "output_type": "stream",
          "name": "stdout",
          "text": [
            "Overwriting variaveis.cpp\n"
          ]
        }
      ]
    },
    {
      "cell_type": "code",
      "source": [
        "%%shell\n",
        "g++ variaveis.cpp -o variaveis\n",
        "./variaveis"
      ],
      "metadata": {
        "colab": {
          "base_uri": "https://localhost:8080/"
        },
        "id": "ov_p-RbSXVgG",
        "outputId": "cabb210e-a3b6-441d-c8bf-3150a375320e"
      },
      "execution_count": 23,
      "outputs": [
        {
          "output_type": "stream",
          "name": "stdout",
          "text": [
            "Entre com um número: 5\n",
            "Você digitou o numero: 5\n",
            "X = 15\n",
            "Y = 10\n",
            "Digite uma string: oii\n",
            "Voce digitou oii\n"
          ]
        },
        {
          "output_type": "execute_result",
          "data": {
            "text/plain": []
          },
          "metadata": {},
          "execution_count": 23
        }
      ]
    },
    {
      "cell_type": "code",
      "source": [
        "%%writefile condicionais.cpp\n",
        "#include <iostream>\n",
        "#include <string>\n",
        "using namespace std;\n",
        "\n",
        "int main(){\n",
        "  int x;\n",
        "  cout << \"Entre com um número: \";\n",
        "  cin >> x;\n",
        "  if (!cin){\n",
        "    cout << \"Voce nao digitou um numero!!!\" << endl;\n",
        "    return 1;\n",
        "  }\n",
        "  cout << \"Voce  digitou \" << x << endl;\n",
        "  return 0;\n",
        "}"
      ],
      "metadata": {
        "colab": {
          "base_uri": "https://localhost:8080/"
        },
        "id": "v0y3ZzogXWWt",
        "outputId": "9ffb6612-8ade-4c07-faa5-b8174c53fba9"
      },
      "execution_count": 28,
      "outputs": [
        {
          "output_type": "stream",
          "name": "stdout",
          "text": [
            "Overwriting condicionais.cpp\n"
          ]
        }
      ]
    },
    {
      "cell_type": "code",
      "source": [
        "!g++ condicionais.cpp -o condicionais\n",
        "!./condicionais"
      ],
      "metadata": {
        "colab": {
          "base_uri": "https://localhost:8080/"
        },
        "id": "9SzT2-F9YLXA",
        "outputId": "e2521509-bfd9-4f71-c635-80ba1f2287d0"
      },
      "execution_count": 33,
      "outputs": [
        {
          "output_type": "stream",
          "name": "stdout",
          "text": [
            "Entre com um número: 5\n",
            "Voce  digitou 5\n"
          ]
        }
      ]
    },
    {
      "cell_type": "code",
      "source": [
        "%%writefile condicionais.cpp\n",
        "#include <iostream>\n",
        "#include <string>\n",
        "using namespace std;\n",
        "\n",
        "int main(){\n",
        "  int x;\n",
        "  cout << \"Entre com um número: \";\n",
        "  cin >> x;\n",
        "  if (!cin){\n",
        "    cout << \"Voce nao digitou um numero!!!\" << endl;\n",
        "    return 1;\n",
        "  }\n",
        "  cout << \"Voce  digitou \" << x << endl;\n",
        "  int y;\n",
        "  cout << \"Entre com outro numero:  \";\n",
        "  if (!(cin >> y)) {\n",
        "    cout << \"Voce nao digitou um numero!!!\" << endl;\n",
        "    return 1;\n",
        "  }\n",
        "  cout << \"Voce  digitou \" << y << endl;\n",
        "  if (x<y){\n",
        "    cout << \"O primeiro numero é menor que o segundo\";\n",
        "  }\n",
        "  else if (x == y){\n",
        "    cout << \"Os numeros sao iguais\";\n",
        "  }\n",
        "  else{\n",
        "    cout << \"O primeiro numero é maior que o segundo\";\n",
        "  }\n",
        "  cout << \"Digite dois numeros: \";\n",
        "  cin >> x >> y;\n",
        "  cout << \"X = \" << x <<endl;\n",
        "  cout << \"Y = \" << y <<endl;\n",
        "  return 0;\n",
        "}"
      ],
      "metadata": {
        "colab": {
          "base_uri": "https://localhost:8080/"
        },
        "id": "UYG02uc4YOz3",
        "outputId": "4b492d5a-3e22-4b27-ce2f-379e86d9532c"
      },
      "execution_count": 40,
      "outputs": [
        {
          "output_type": "stream",
          "name": "stdout",
          "text": [
            "Overwriting condicionais.cpp\n"
          ]
        }
      ]
    },
    {
      "cell_type": "code",
      "source": [
        "!g++ condicionais.cpp -o condicionais\n",
        "!./condicionais"
      ],
      "metadata": {
        "colab": {
          "base_uri": "https://localhost:8080/"
        },
        "id": "68SI_CCNaFpX",
        "outputId": "6f99551e-dec9-423a-d18e-5d575b24b809"
      },
      "execution_count": 41,
      "outputs": [
        {
          "output_type": "stream",
          "name": "stdout",
          "text": [
            "Entre com um número: 6\n",
            "Voce  digitou 6\n",
            "Entre com outro numero:  7\n",
            "Voce  digitou 7\n",
            "O primeiro numero é menor que o segundoDigite dois numeros: 7 8\n",
            "X = 7\n",
            "Y = 8\n"
          ]
        }
      ]
    },
    {
      "cell_type": "code",
      "source": [
        "%%writefile lacos.cpp\n",
        "\n",
        "#include <iostream>\n",
        "#include <vector>\n",
        "//Vector similar a ArrayList em Java\n",
        "//Já é um vetor de tamanho dinâmico\n",
        "using namespace std;\n",
        "\n",
        "int main(){\n",
        "  int x;\n",
        "  int w[] = {1,2,3};\n",
        "  cout << w[0] << endl;\n",
        "\n",
        "  vector<int> v;\n",
        "  cout <<\" Entre quantos numeros desejar: \" << endl;\n",
        "  while (cin >>x){\n",
        "    v.push_back(x);\n",
        "  }\n",
        "  cout << \"Voce inseriu \" << v.size() << \" Elementos no vetor\\n\" << endl;\n",
        "\n",
        "  size_t maior_index = 0;\n",
        "  for (size_t i; i<v.size();i++){\n",
        "    if (v[i] >= v[maior_index]){\n",
        "      maior_index = i;\n",
        "    }\n",
        "  }\n",
        "  cout << \"O maior numero esta na posicao \" << maior_index << \" do vector, com valor \" << v[maior_index] << endl;\n",
        "  return 0;\n",
        "}"
      ],
      "metadata": {
        "colab": {
          "base_uri": "https://localhost:8080/"
        },
        "id": "jq5c6VtLaGwj",
        "outputId": "ed3fdc0d-a68c-456c-b2f5-20c4dd627e9b"
      },
      "execution_count": 48,
      "outputs": [
        {
          "output_type": "stream",
          "name": "stdout",
          "text": [
            "Overwriting lacos.cpp\n"
          ]
        }
      ]
    },
    {
      "cell_type": "code",
      "source": [
        "!g++ -Wall lacos.cpp -o lacos\n",
        "!./lacos"
      ],
      "metadata": {
        "colab": {
          "base_uri": "https://localhost:8080/"
        },
        "id": "vw2r2v8Rb_G_",
        "outputId": "a37ad122-0033-4d1e-e952-377588acc8ac"
      },
      "execution_count": 50,
      "outputs": [
        {
          "output_type": "stream",
          "name": "stdout",
          "text": [
            "1\n",
            " Entre quantos numeros desejar: \n",
            "1\n",
            "2\n",
            "3\n",
            "u\n",
            "Voce inseriu 3 Elementos no vetor\n",
            "\n",
            "O maior numero esta na posicao 2 do vector, com valor 3\n"
          ]
        }
      ]
    },
    {
      "cell_type": "code",
      "source": [
        "%%writefile funcoes.cpp\n",
        "\n",
        "#include <iostream>\n",
        "\n",
        "using namespace std;\n",
        "\n",
        "int sqr_it(int x);\n",
        "\n",
        "int main(){\n",
        "  int t = 10;\n",
        "\n",
        "  cout << sqr_it(t) << endl;\n",
        "  cout << \"Valor de t \" << t << endl;\n",
        "\n",
        "  return 0;\n",
        "}\n",
        "\n",
        "int sqr_it(int x){\n",
        "  x = x*x;\n",
        "  return x;\n",
        "}"
      ],
      "metadata": {
        "colab": {
          "base_uri": "https://localhost:8080/"
        },
        "id": "KqTm_ezLcB2t",
        "outputId": "f13bafd2-f724-4541-aef2-9037a18db4d3"
      },
      "execution_count": 71,
      "outputs": [
        {
          "output_type": "stream",
          "name": "stdout",
          "text": [
            "Overwriting funcoes.cpp\n"
          ]
        }
      ]
    },
    {
      "cell_type": "code",
      "source": [
        "!g++ -Wall funcoes.cpp -o funcoes\n",
        "!./funcoes"
      ],
      "metadata": {
        "colab": {
          "base_uri": "https://localhost:8080/"
        },
        "id": "3L3k-xGff_zg",
        "outputId": "b498d512-9505-41ac-aabd-05c91baf490b"
      },
      "execution_count": 72,
      "outputs": [
        {
          "output_type": "stream",
          "name": "stdout",
          "text": [
            "100\n",
            "Valor de t 10\n"
          ]
        }
      ]
    },
    {
      "cell_type": "code",
      "source": [
        "%%writefile funcoes_referencia.cpp\n",
        "\n",
        "#include <iostream>\n",
        "\n",
        "using namespace std;\n",
        "\n",
        "int sqr_it(int &x);\n",
        "\n",
        "int main(){\n",
        "  int t = 10;\n",
        "\n",
        "  cout << sqr_it(t) << endl;\n",
        "  cout << \"Valor de t \" << t << endl;\n",
        "\n",
        "  return 0;\n",
        "}\n",
        "// notacao de pointer\n",
        "int sqr_it(int &x){\n",
        "  x = x*x;\n",
        "  return x;\n",
        "}"
      ],
      "metadata": {
        "colab": {
          "base_uri": "https://localhost:8080/"
        },
        "id": "l5lYqQeCgk5z",
        "outputId": "d1d5eca5-73ce-438c-f314-a2ae84f6ac94"
      },
      "execution_count": 73,
      "outputs": [
        {
          "output_type": "stream",
          "name": "stdout",
          "text": [
            "Overwriting funcoes_referencia.cpp\n"
          ]
        }
      ]
    },
    {
      "cell_type": "code",
      "source": [
        "!g++ -Wall funcoes_referencia.cpp -o funcoes_referencia\n",
        "!./funcoes_referencia"
      ],
      "metadata": {
        "colab": {
          "base_uri": "https://localhost:8080/"
        },
        "id": "9_iNaxb_hoHT",
        "outputId": "481ac062-fc4c-44ad-c3ac-202a413386ec"
      },
      "execution_count": 74,
      "outputs": [
        {
          "output_type": "stream",
          "name": "stdout",
          "text": [
            "100\n",
            "Valor de t 100\n"
          ]
        }
      ]
    },
    {
      "cell_type": "code",
      "source": [
        "%%writefile vectors.cpp\n",
        "\n",
        "#include <iostream>\n",
        "#include <vector>\n",
        "#include <algorithm>\n",
        "using namespace std;\n",
        "\n",
        "\n",
        "//funcao de criteiro\n",
        "bool my_compare(float a, float b){\n",
        "  return a > b; //Ordenacao crescente\n",
        "}\n",
        "\n",
        "int main(){\n",
        "  vector<float> nums;\n",
        "  nums.push_back(10.5);//Inserir\n",
        "\n",
        "  //recuperar\n",
        "  cout << nums[0] << endl;\n",
        "\n",
        "  //apagar o primeiro Elemento\n",
        "  nums.erase(nums.begin());\n",
        "\n",
        "  //tamanho do vetor\n",
        "  cout << nums.size() << endl;\n",
        "\n",
        "  nums.push_back(4.0);\n",
        "  nums.push_back(7.5);\n",
        "  nums.push_back(23.4);\n",
        "\n",
        "  cout << nums.size() << endl;\n",
        "\n",
        "  //limpar vetor\n",
        "  nums.clear();\n",
        "\n",
        "  //inicializar vetor com valor padrao\n",
        "  //1: numero de posicoes, 2: valor a preencher\n",
        "  nums.assign(100,0.5);\n",
        "\n",
        "  cout << nums.size() << endl;\n",
        "  nums.clear();\n",
        "\n",
        "  nums.push_back(4.0);\n",
        "  nums.push_back(7.5);\n",
        "  nums.push_back(23.4);\n",
        "\n",
        "  //ordenando\n",
        "  sort(nums.begin(),nums.end(),my_compare);\n",
        "\n",
        "  //compilador determina o tipo da variavel do vetor, pegando a referencia do elemento\n",
        "  for (auto& e:nums){\n",
        "    cout << e << \"\\t\";\n",
        "  }\n",
        "\n",
        "  return 0;\n",
        "}\n"
      ],
      "metadata": {
        "colab": {
          "base_uri": "https://localhost:8080/"
        },
        "id": "s-333Ou2hxtH",
        "outputId": "4465bead-0d0f-4537-ce22-87552f93612c"
      },
      "execution_count": 81,
      "outputs": [
        {
          "output_type": "stream",
          "name": "stdout",
          "text": [
            "Overwriting vectors.cpp\n"
          ]
        }
      ]
    },
    {
      "cell_type": "code",
      "source": [
        "!g++ -Wall vectors.cpp -o vectors\n",
        "!./vectors"
      ],
      "metadata": {
        "colab": {
          "base_uri": "https://localhost:8080/"
        },
        "id": "V5DOIAbikzeo",
        "outputId": "11f3a766-02de-4085-fe74-8fb9c8957ac5"
      },
      "execution_count": 82,
      "outputs": [
        {
          "output_type": "stream",
          "name": "stdout",
          "text": [
            "10.5\n",
            "0\n",
            "3\n",
            "100\n",
            "23.4\t7.5\t4\t"
          ]
        }
      ]
    },
    {
      "cell_type": "code",
      "source": [],
      "metadata": {
        "id": "f5qEbbpZk2xE"
      },
      "execution_count": null,
      "outputs": []
    }
  ]
}