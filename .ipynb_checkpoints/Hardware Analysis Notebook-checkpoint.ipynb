{
 "cells": [
  {
   "cell_type": "markdown",
   "metadata": {},
   "source": [
    "# Machine Learning Project\n",
    "\n",
    "##### Creating Regression Models for data available on https://archive.ics.uci.edu/ml/datasets/Computer+Hardware"
   ]
  },
  {
   "cell_type": "code",
   "execution_count": 35,
   "metadata": {},
   "outputs": [],
   "source": [
    "#Importing the Modules used here for the primary use\n",
    "import pandas as pd \n",
    "import numpy as np \n",
    "import matplotlib.pyplot as plt\n",
    "from sklearn.model_selection import train_test_split\n",
    "from sklearn import preprocessing"
   ]
  },
  {
   "cell_type": "markdown",
   "metadata": {},
   "source": [
    "#### Importing the dataset used"
   ]
  },
  {
   "cell_type": "code",
   "execution_count": 6,
   "metadata": {},
   "outputs": [
    {
     "data": {
      "text/html": [
       "<div>\n",
       "<style scoped>\n",
       "    .dataframe tbody tr th:only-of-type {\n",
       "        vertical-align: middle;\n",
       "    }\n",
       "\n",
       "    .dataframe tbody tr th {\n",
       "        vertical-align: top;\n",
       "    }\n",
       "\n",
       "    .dataframe thead th {\n",
       "        text-align: right;\n",
       "    }\n",
       "</style>\n",
       "<table border=\"1\" class=\"dataframe\">\n",
       "  <thead>\n",
       "    <tr style=\"text-align: right;\">\n",
       "      <th></th>\n",
       "      <th>vendor_name</th>\n",
       "      <th>model_name</th>\n",
       "      <th>MYCT</th>\n",
       "      <th>MMIN</th>\n",
       "      <th>MMAX</th>\n",
       "      <th>CACH</th>\n",
       "      <th>CHMIN</th>\n",
       "      <th>CHMAX</th>\n",
       "      <th>PRP</th>\n",
       "      <th>ERP</th>\n",
       "    </tr>\n",
       "  </thead>\n",
       "  <tbody>\n",
       "    <tr>\n",
       "      <th>0</th>\n",
       "      <td>adviser</td>\n",
       "      <td>32/60</td>\n",
       "      <td>125</td>\n",
       "      <td>256</td>\n",
       "      <td>6000</td>\n",
       "      <td>256</td>\n",
       "      <td>16</td>\n",
       "      <td>128</td>\n",
       "      <td>198</td>\n",
       "      <td>199</td>\n",
       "    </tr>\n",
       "    <tr>\n",
       "      <th>1</th>\n",
       "      <td>amdahl</td>\n",
       "      <td>470v/7</td>\n",
       "      <td>29</td>\n",
       "      <td>8000</td>\n",
       "      <td>32000</td>\n",
       "      <td>32</td>\n",
       "      <td>8</td>\n",
       "      <td>32</td>\n",
       "      <td>269</td>\n",
       "      <td>253</td>\n",
       "    </tr>\n",
       "    <tr>\n",
       "      <th>2</th>\n",
       "      <td>amdahl</td>\n",
       "      <td>470v/7a</td>\n",
       "      <td>29</td>\n",
       "      <td>8000</td>\n",
       "      <td>32000</td>\n",
       "      <td>32</td>\n",
       "      <td>8</td>\n",
       "      <td>32</td>\n",
       "      <td>220</td>\n",
       "      <td>253</td>\n",
       "    </tr>\n",
       "    <tr>\n",
       "      <th>3</th>\n",
       "      <td>amdahl</td>\n",
       "      <td>470v/7b</td>\n",
       "      <td>29</td>\n",
       "      <td>8000</td>\n",
       "      <td>32000</td>\n",
       "      <td>32</td>\n",
       "      <td>8</td>\n",
       "      <td>32</td>\n",
       "      <td>172</td>\n",
       "      <td>253</td>\n",
       "    </tr>\n",
       "    <tr>\n",
       "      <th>4</th>\n",
       "      <td>amdahl</td>\n",
       "      <td>470v/7c</td>\n",
       "      <td>29</td>\n",
       "      <td>8000</td>\n",
       "      <td>16000</td>\n",
       "      <td>32</td>\n",
       "      <td>8</td>\n",
       "      <td>16</td>\n",
       "      <td>132</td>\n",
       "      <td>132</td>\n",
       "    </tr>\n",
       "  </tbody>\n",
       "</table>\n",
       "</div>"
      ],
      "text/plain": [
       "  vendor_name model_name  MYCT  MMIN   MMAX  CACH  CHMIN  CHMAX  PRP  ERP\n",
       "0     adviser      32/60   125   256   6000   256     16    128  198  199\n",
       "1      amdahl     470v/7    29  8000  32000    32      8     32  269  253\n",
       "2      amdahl    470v/7a    29  8000  32000    32      8     32  220  253\n",
       "3      amdahl    470v/7b    29  8000  32000    32      8     32  172  253\n",
       "4      amdahl    470v/7c    29  8000  16000    32      8     16  132  132"
      ]
     },
     "execution_count": 6,
     "metadata": {},
     "output_type": "execute_result"
    }
   ],
   "source": [
    "data=pd.read_csv('machine.data',names=['vendor_name','model_name','MYCT','MMIN','MMAX','CACH',\n",
    "                                      'CHMIN','CHMAX','PRP','ERP'])\n",
    "data_trn=data.copy()\n",
    "data.head()"
   ]
  },
  {
   "cell_type": "code",
   "execution_count": 10,
   "metadata": {},
   "outputs": [
    {
     "data": {
      "text/html": [
       "<div>\n",
       "<style scoped>\n",
       "    .dataframe tbody tr th:only-of-type {\n",
       "        vertical-align: middle;\n",
       "    }\n",
       "\n",
       "    .dataframe tbody tr th {\n",
       "        vertical-align: top;\n",
       "    }\n",
       "\n",
       "    .dataframe thead th {\n",
       "        text-align: right;\n",
       "    }\n",
       "</style>\n",
       "<table border=\"1\" class=\"dataframe\">\n",
       "  <thead>\n",
       "    <tr style=\"text-align: right;\">\n",
       "      <th></th>\n",
       "      <th>vendor_name</th>\n",
       "      <th>model_name</th>\n",
       "      <th>MYCT</th>\n",
       "      <th>MMIN</th>\n",
       "      <th>MMAX</th>\n",
       "      <th>CACH</th>\n",
       "      <th>CHMIN</th>\n",
       "      <th>CHMAX</th>\n",
       "      <th>PRP</th>\n",
       "      <th>ERP</th>\n",
       "    </tr>\n",
       "  </thead>\n",
       "  <tbody>\n",
       "    <tr>\n",
       "      <th>0</th>\n",
       "      <td>0</td>\n",
       "      <td>32/60</td>\n",
       "      <td>125</td>\n",
       "      <td>256</td>\n",
       "      <td>6000</td>\n",
       "      <td>256</td>\n",
       "      <td>16</td>\n",
       "      <td>128</td>\n",
       "      <td>198</td>\n",
       "      <td>199</td>\n",
       "    </tr>\n",
       "    <tr>\n",
       "      <th>1</th>\n",
       "      <td>1</td>\n",
       "      <td>470v/7</td>\n",
       "      <td>29</td>\n",
       "      <td>8000</td>\n",
       "      <td>32000</td>\n",
       "      <td>32</td>\n",
       "      <td>8</td>\n",
       "      <td>32</td>\n",
       "      <td>269</td>\n",
       "      <td>253</td>\n",
       "    </tr>\n",
       "    <tr>\n",
       "      <th>2</th>\n",
       "      <td>1</td>\n",
       "      <td>470v/7a</td>\n",
       "      <td>29</td>\n",
       "      <td>8000</td>\n",
       "      <td>32000</td>\n",
       "      <td>32</td>\n",
       "      <td>8</td>\n",
       "      <td>32</td>\n",
       "      <td>220</td>\n",
       "      <td>253</td>\n",
       "    </tr>\n",
       "  </tbody>\n",
       "</table>\n",
       "</div>"
      ],
      "text/plain": [
       "   vendor_name model_name  MYCT  MMIN   MMAX  CACH  CHMIN  CHMAX  PRP  ERP\n",
       "0            0      32/60   125   256   6000   256     16    128  198  199\n",
       "1            1     470v/7    29  8000  32000    32      8     32  269  253\n",
       "2            1    470v/7a    29  8000  32000    32      8     32  220  253"
      ]
     },
     "execution_count": 10,
     "metadata": {},
     "output_type": "execute_result"
    }
   ],
   "source": [
    "'''Encondind the label vendor_name for optimization purposes'''\n",
    "transformer=preprocessing.LabelEncoder()\n",
    "vendor_name=transformer.fit_transform(data_trn.vendor_name)\n",
    "data_trn.vendor_name=vendor_name\n",
    "data_trn.head(3)"
   ]
  },
  {
   "cell_type": "markdown",
   "metadata": {},
   "source": [
    "### Splitting the dataset"
   ]
  },
  {
   "cell_type": "code",
   "execution_count": 40,
   "metadata": {},
   "outputs": [],
   "source": [
    "from sklearn.preprocessing import MinMaxScaler\n",
    "scaler=MinMaxScaler()\n",
    "\n",
    "X=data_trn[['vendor_name','MYCT','MMIN','MMAX','CACH','CHMIN','CHMAX']]#Features\n",
    "y=data_trn['PRP']#Label\n",
    "#Splitting the data_set\n",
    "X_train,X_test,y_train,y_test=train_test_split(X,y,random_state=0,test_size=0.15)\n",
    "\n",
    "#Normalizated features for future models\n",
    "X_train_scaled = scaler.fit_transform(X_train)\n",
    "X_test_scaled = scaler.transform(X_test)"
   ]
  },
  {
   "cell_type": "markdown",
   "metadata": {},
   "source": [
    "#### First Model: KNeighborsRegressor\n",
    "###### For this Model we'll use the KN Regression, without normalization to see how this affects the model"
   ]
  },
  {
   "cell_type": "code",
   "execution_count": 41,
   "metadata": {},
   "outputs": [
    {
     "name": "stdout",
     "output_type": "stream",
     "text": [
      "For this number of neighbors 1, this is the score of the model: 0.9319133094864283\n",
      "For this number of neighbors 2, this is the score of the model: 0.9444422413932635\n",
      "For this number of neighbors 3, this is the score of the model: 0.959928027666726\n",
      "For this number of neighbors 4, this is the score of the model: 0.9455338644934691\n",
      "For this number of neighbors 5, this is the score of the model: 0.9093684023113154\n",
      "For this number of neighbors 6, this is the score of the model: 0.8863751625312248\n",
      "For this number of neighbors 7, this is the score of the model: 0.8708104765626368\n",
      "For this number of neighbors 8, this is the score of the model: 0.8402558399964392\n",
      "For this number of neighbors 9, this is the score of the model: 0.7999883702876436\n"
     ]
    }
   ],
   "source": [
    "from sklearn.neighbors import KNeighborsRegressor\n",
    "#finding the best parameters to build the model \n",
    "for i in range(1,10):\n",
    "    knnreg=KNeighborsRegressor(n_neighbors=i).fit(X_train,y_train)\n",
    "    print(f'For this number of neighbors {i}, this is the score of the model: {knnreg.score(X_test,y_test)}')"
   ]
  },
  {
   "cell_type": "code",
   "execution_count": 42,
   "metadata": {},
   "outputs": [
    {
     "name": "stdout",
     "output_type": "stream",
     "text": [
      "Comparing the prediction against the published value of perfomance: \n",
      " [(39.333333333333336, 16), (49.0, 63), (324.3333333333333, 318), (68.0, 75), (36.333333333333336, 16), (98.0, 66), (9.666666666666666, 12), (145.66666666666666, 141), (183.66666666666666, 214)]\n"
     ]
    }
   ],
   "source": [
    "#Considerating the feature above, we'll use 3 as the number of neighbors for this model\n",
    "knnreg=KNeighborsRegressor(n_neighbors=3).fit(X_train,y_train)\n",
    "x=zip(list(knnreg.predict(X_test)),y_test.tolist())\n",
    "print('Comparing the prediction against the published value of perfomance: \\n',list(x)[1:10])\n"
   ]
  },
  {
   "cell_type": "markdown",
   "metadata": {},
   "source": [
    "#### Second Model: Linear regression\n",
    "###### For this Model we'll use the Linear regression (based on the squared error), with and without normalization to see how this affects the model"
   ]
  },
  {
   "cell_type": "code",
   "execution_count": 45,
   "metadata": {},
   "outputs": [
    {
     "name": "stdout",
     "output_type": "stream",
     "text": [
      "R-squared score (training): 0.859\n",
      "R-squared score (test): 0.905\n"
     ]
    }
   ],
   "source": [
    "from sklearn.linear_model import LinearRegression\n",
    "\n",
    "linreg= LinearRegression().fit(X_train,y_train)\n",
    "\n",
    "print('R-squared score (training): {:.3f}'\n",
    "     .format(linreg.score(X_train, y_train)))\n",
    "print('R-squared score (test): {:.3f}'\n",
    "     .format(linreg.score(X_test, y_test)))"
   ]
  },
  {
   "cell_type": "code",
   "execution_count": 46,
   "metadata": {},
   "outputs": [
    {
     "name": "stdout",
     "output_type": "stream",
     "text": [
      "R-squared score (training): 0.859\n",
      "R-squared score (test): 0.905\n"
     ]
    }
   ],
   "source": [
    "#Using normalization\n",
    "linreg= LinearRegression().fit(X_train_scaled,y_train)\n",
    "\n",
    "print('R-squared score (training): {:.3f}'\n",
    "     .format(linreg.score(X_train_scaled, y_train)))\n",
    "print('R-squared score (test): {:.3f}'\n",
    "     .format(linreg.score(X_test_scaled, y_test)))"
   ]
  },
  {
   "cell_type": "code",
   "execution_count": 48,
   "metadata": {},
   "outputs": [
    {
     "name": "stdout",
     "output_type": "stream",
     "text": [
      "Comparing the prediction against the published value of perfomance: \n",
      " [(5.634793336639916, 16), (88.617527673032, 63), (329.4614687399462, 318), (91.76017692143772, 75), (13.954745233956508, 16), (92.85222357620522, 66), (43.78858601717292, 12), (267.6093839013894, 141), (198.64301799478852, 214)]\n"
     ]
    }
   ],
   "source": [
    "linreg= LinearRegression().fit(X_train,y_train)\n",
    "x=zip(list(abs(linreg.predict(X_test))),y_test.tolist())\n",
    "print('Comparing the prediction against the published value of perfomance: \\n',list(x)[1:10])"
   ]
  },
  {
   "cell_type": "markdown",
   "metadata": {},
   "source": [
    "#### Third Model: Ridge regression\n",
    "###### For this Model we'll use the Ridge regression (based on the squared error of the weights used), with and without normalization to see how this affects the model and variating the regularization of the model for avoid overfitting."
   ]
  },
  {
   "cell_type": "code",
   "execution_count": 57,
   "metadata": {},
   "outputs": [
    {
     "name": "stdout",
     "output_type": "stream",
     "text": [
      "For this value of alpha: 0.001, those are the scores:\n",
      "R-squared score (training): 0.859\n",
      "R-squared score (test): 0.905 \n",
      "\n",
      "For this value of alpha: 0.1, those are the scores:\n",
      "R-squared score (training): 0.859\n",
      "R-squared score (test): 0.905 \n",
      "\n",
      "For this value of alpha: 1, those are the scores:\n",
      "R-squared score (training): 0.859\n",
      "R-squared score (test): 0.905 \n",
      "\n",
      "For this value of alpha: 2, those are the scores:\n",
      "R-squared score (training): 0.859\n",
      "R-squared score (test): 0.905 \n",
      "\n",
      "For this value of alpha: 5, those are the scores:\n",
      "R-squared score (training): 0.859\n",
      "R-squared score (test): 0.905 \n",
      "\n",
      "For this value of alpha: 10, those are the scores:\n",
      "R-squared score (training): 0.859\n",
      "R-squared score (test): 0.905 \n",
      "\n",
      "For this value of alpha: 50, those are the scores:\n",
      "R-squared score (training): 0.859\n",
      "R-squared score (test): 0.905 \n",
      "\n",
      "For this value of alpha: 100, those are the scores:\n",
      "R-squared score (training): 0.859\n",
      "R-squared score (test): 0.905 \n",
      "\n"
     ]
    }
   ],
   "source": [
    "from sklearn.linear_model import Ridge\n",
    "#values that control the regularization of the model\n",
    "alpha_values=[1e-3,0.1,1,2,5,10,50,100]\n",
    "for i in range(0,len(alpha_values)):\n",
    "    linridge= Ridge(alpha=alpha_values[i]).fit(X_train,y_train)\n",
    "    print(f'For this value of alpha: {alpha_values[i]}, those are the scores:')\n",
    "    print('R-squared score (training): {:.3f}'\n",
    "     .format(linridge.score(X_train, y_train)))\n",
    "    print('R-squared score (test): {:.3f} \\n'\n",
    "     .format(linridge.score(X_test, y_test)))"
   ]
  },
  {
   "cell_type": "code",
   "execution_count": 59,
   "metadata": {},
   "outputs": [
    {
     "name": "stdout",
     "output_type": "stream",
     "text": [
      "For this value of alpha: 0.001, those are the scores with normalization:\n",
      "R-squared score (training): 0.859\n",
      "R-squared score (test): 0.905 \n",
      "\n",
      "For this value of alpha: 0.1, those are the scores with normalization:\n",
      "R-squared score (training): 0.859\n",
      "R-squared score (test): 0.907 \n",
      "\n",
      "For this value of alpha: 1, those are the scores with normalization:\n",
      "R-squared score (training): 0.846\n",
      "R-squared score (test): 0.910 \n",
      "\n",
      "For this value of alpha: 2, those are the scores with normalization:\n",
      "R-squared score (training): 0.827\n",
      "R-squared score (test): 0.899 \n",
      "\n",
      "For this value of alpha: 5, those are the scores with normalization:\n",
      "R-squared score (training): 0.765\n",
      "R-squared score (test): 0.844 \n",
      "\n",
      "For this value of alpha: 10, those are the scores with normalization:\n",
      "R-squared score (training): 0.669\n",
      "R-squared score (test): 0.745 \n",
      "\n",
      "For this value of alpha: 50, those are the scores with normalization:\n",
      "R-squared score (training): 0.311\n",
      "R-squared score (test): 0.349 \n",
      "\n",
      "For this value of alpha: 100, those are the scores with normalization:\n",
      "R-squared score (training): 0.184\n",
      "R-squared score (test): 0.207 \n",
      "\n"
     ]
    }
   ],
   "source": [
    "#Using normalization\n",
    "alpha_values=[1e-3,0.1,1,2,5,10,50,100]\n",
    "for i in range(0,len(alpha_values)):\n",
    "    linridge= Ridge(alpha=alpha_values[i]).fit(X_train_scaled,y_train)\n",
    "    print(f'For this value of alpha: {alpha_values[i]}, those are the scores with normalization:')\n",
    "    print('R-squared score (training): {:.3f}'\n",
    "     .format(linridge.score(X_train_scaled, y_train)))\n",
    "    print('R-squared score (test): {:.3f} \\n'\n",
    "     .format(linridge.score(X_test_scaled, y_test)))"
   ]
  },
  {
   "cell_type": "code",
   "execution_count": 61,
   "metadata": {},
   "outputs": [
    {
     "name": "stdout",
     "output_type": "stream",
     "text": [
      "Comparing the prediction against the published value of perfomance: \n",
      " [(2.0693701973432397, 16), (107.79144895858254, 63), (313.65263960223393, 318), (91.639864155838, 75), (7.213240952566601, 16), (96.90001725378589, 66), (13.035056872323935, 12), (256.98068918347934, 141), (198.90363813074646, 214)]\n"
     ]
    }
   ],
   "source": [
    "#As we saw above, the best value was confirming using normalization and is around 1.0\n",
    "linridge= Ridge(alpha=1.0).fit(X_train_scaled,y_train)\n",
    "x=zip(list(abs(linridge.predict(X_test_scaled))),y_test.tolist())\n",
    "print('Comparing the prediction against the published value of perfomance: \\n',list(x)[1:10])"
   ]
  },
  {
   "cell_type": "markdown",
   "metadata": {},
   "source": [
    "#### Third Model: Lasso regression\n",
    "###### For this Model we'll use the Lasso regression (based on the absolute value of the weights used) with and without normalization to see how this affects the model and variating the regularization of the model for avoid overfitting."
   ]
  },
  {
   "cell_type": "code",
   "execution_count": 69,
   "metadata": {},
   "outputs": [
    {
     "name": "stdout",
     "output_type": "stream",
     "text": [
      "For this value of alpha: 0.001, those are the scores:\n",
      "R-squared score (training): 0.859\n",
      "R-squared score (test): 0.905 \n",
      "\n",
      "For this value of alpha: 0.1, those are the scores:\n",
      "R-squared score (training): 0.859\n",
      "R-squared score (test): 0.905 \n",
      "\n",
      "For this value of alpha: 1, those are the scores:\n",
      "R-squared score (training): 0.859\n",
      "R-squared score (test): 0.905 \n",
      "\n",
      "For this value of alpha: 2, those are the scores:\n",
      "R-squared score (training): 0.859\n",
      "R-squared score (test): 0.905 \n",
      "\n",
      "For this value of alpha: 5, those are the scores:\n",
      "R-squared score (training): 0.859\n",
      "R-squared score (test): 0.906 \n",
      "\n",
      "For this value of alpha: 10, those are the scores:\n",
      "R-squared score (training): 0.859\n",
      "R-squared score (test): 0.908 \n",
      "\n",
      "For this value of alpha: 50, those are the scores:\n",
      "R-squared score (training): 0.858\n",
      "R-squared score (test): 0.911 \n",
      "\n",
      "For this value of alpha: 100, those are the scores:\n",
      "R-squared score (training): 0.858\n",
      "R-squared score (test): 0.912 \n",
      "\n",
      "For this value of alpha: 1000, those are the scores:\n",
      "R-squared score (training): 0.787\n",
      "R-squared score (test): 0.907 \n",
      "\n"
     ]
    }
   ],
   "source": [
    "from sklearn.linear_model import Lasso\n",
    "\n",
    "#values that control the regularization of the model\n",
    "alpha_values=[1e-3,0.1,1,2,5,10,50,100,1000]\n",
    "for i in range(0,len(alpha_values)):\n",
    "    linlasso= Lasso(alpha=alpha_values[i],max_iter=10000).fit(X_train,y_train)\n",
    "    print(f'For this value of alpha: {alpha_values[i]}, those are the scores:')\n",
    "    print('R-squared score (training): {:.3f}'\n",
    "     .format(linlasso.score(X_train, y_train)))\n",
    "    print('R-squared score (test): {:.3f} \\n'\n",
    "     .format(linlasso.score(X_test, y_test)))"
   ]
  },
  {
   "cell_type": "code",
   "execution_count": 70,
   "metadata": {},
   "outputs": [
    {
     "name": "stdout",
     "output_type": "stream",
     "text": [
      "For this value of alpha: 0.001, those are the scores:\n",
      "R-squared score (training): 0.859\n",
      "R-squared score (test): 0.905 \n",
      "\n",
      "For this value of alpha: 0.1, those are the scores:\n",
      "R-squared score (training): 0.859\n",
      "R-squared score (test): 0.909 \n",
      "\n",
      "For this value of alpha: 1, those are the scores:\n",
      "R-squared score (training): 0.850\n",
      "R-squared score (test): 0.910 \n",
      "\n",
      "For this value of alpha: 2, those are the scores:\n",
      "R-squared score (training): 0.835\n",
      "R-squared score (test): 0.886 \n",
      "\n",
      "For this value of alpha: 5, those are the scores:\n",
      "R-squared score (training): 0.762\n",
      "R-squared score (test): 0.769 \n",
      "\n",
      "For this value of alpha: 10, those are the scores:\n",
      "R-squared score (training): 0.639\n",
      "R-squared score (test): 0.641 \n",
      "\n",
      "For this value of alpha: 50, those are the scores:\n",
      "R-squared score (training): 0.000\n",
      "R-squared score (test): -0.001 \n",
      "\n",
      "For this value of alpha: 100, those are the scores:\n",
      "R-squared score (training): 0.000\n",
      "R-squared score (test): -0.001 \n",
      "\n",
      "For this value of alpha: 1000, those are the scores:\n",
      "R-squared score (training): 0.000\n",
      "R-squared score (test): -0.001 \n",
      "\n"
     ]
    }
   ],
   "source": [
    "#using normalization\n",
    "alpha_values=[1e-3,0.1,1,2,5,10,50,100,1000]\n",
    "for i in range(0,len(alpha_values)):\n",
    "    linlasso= Lasso(alpha=alpha_values[i],max_iter=10000).fit(X_train_scaled,y_train)\n",
    "    print(f'For this value of alpha: {alpha_values[i]}, those are the scores:')\n",
    "    print('R-squared score (training): {:.3f}'\n",
    "     .format(linlasso.score(X_train_scaled, y_train)))\n",
    "    print('R-squared score (test): {:.3f} \\n'\n",
    "     .format(linlasso.score(X_test_scaled, y_test)))"
   ]
  },
  {
   "cell_type": "code",
   "execution_count": 71,
   "metadata": {},
   "outputs": [
    {
     "name": "stdout",
     "output_type": "stream",
     "text": [
      "Comparing the prediction against the published value of perfomance: \n",
      " [(2.0693701973432397, 16), (107.79144895858254, 63), (313.65263960223393, 318), (91.639864155838, 75), (7.213240952566601, 16), (96.90001725378589, 66), (13.035056872323935, 12), (256.98068918347934, 141), (198.90363813074646, 214)]\n"
     ]
    }
   ],
   "source": [
    "#As we saw above, the best way to build a model usind Lasso for this dataset is use Normalization\n",
    "#for memorie usage and processing purposes, and takes alpha around the value of 1.0\n",
    "linlasso= Ridge(alpha=1.0,max_iter=10000).fit(X_train_scaled,y_train)\n",
    "x=zip(list(abs(linlasso.predict(X_test_scaled))),y_test.tolist())\n",
    "print('Comparing the prediction against the published value of perfomance: \\n',list(x)[1:10])"
   ]
  },
  {
   "cell_type": "code",
   "execution_count": null,
   "metadata": {},
   "outputs": [],
   "source": []
  }
 ],
 "metadata": {
  "kernelspec": {
   "display_name": "Python 3",
   "language": "python",
   "name": "python3"
  },
  "language_info": {
   "codemirror_mode": {
    "name": "ipython",
    "version": 3
   },
   "file_extension": ".py",
   "mimetype": "text/x-python",
   "name": "python",
   "nbconvert_exporter": "python",
   "pygments_lexer": "ipython3",
   "version": "3.8.3"
  }
 },
 "nbformat": 4,
 "nbformat_minor": 4
}
